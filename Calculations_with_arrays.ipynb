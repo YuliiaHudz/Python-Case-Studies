{
  "nbformat": 4,
  "nbformat_minor": 0,
  "metadata": {
    "colab": {
      "provenance": [],
      "authorship_tag": "ABX9TyPzdA+JG/eKV3Mot8vEKJTJ",
      "include_colab_link": true
    },
    "kernelspec": {
      "name": "python3",
      "display_name": "Python 3"
    },
    "language_info": {
      "name": "python"
    }
  },
  "cells": [
    {
      "cell_type": "markdown",
      "metadata": {
        "id": "view-in-github",
        "colab_type": "text"
      },
      "source": [
        "<a href=\"https://colab.research.google.com/github/YuliiaHudz/Python-Case-Studies/blob/main/Calculations_with_arrays.ipynb\" target=\"_parent\"><img src=\"https://colab.research.google.com/assets/colab-badge.svg\" alt=\"Open In Colab\"/></a>"
      ]
    },
    {
      "cell_type": "markdown",
      "source": [
        "This script:\n",
        "\n",
        "✅ Finds the mean and median number of clicks on the ad banner.\n",
        "\n",
        "✅ Computes total clicks for the first and last 30 days\n",
        "\n",
        "✅ Identifies the more successful month\n",
        "\n",
        "✅ Finds max, min, and range of clicks\n",
        "\n",
        "✅ Computes the range of the sample—the difference between the maximum and minimum values.\n",
        "\n",
        "✅ Assumes the cost per ad click is $0.03. Calculate the daily ad cost as well as the total ad cost."
      ],
      "metadata": {
        "id": "Swi0QQHv0IJY"
      }
    },
    {
      "cell_type": "code",
      "execution_count": 1,
      "metadata": {
        "id": "IGBOEF_Jocfl"
      },
      "outputs": [],
      "source": [
        "import numpy as np\n",
        "\n",
        "from random import randint\n",
        "\n",
        "# Generate a list of random values representing daily clicks over 60 days\n",
        "random_values = [randint(100, 10000) for _ in range(60)]\n",
        "random_array = np.array(random_values)"
      ]
    },
    {
      "cell_type": "code",
      "source": [
        "# Average (mean) and median clicks\n",
        "average_clicks = np.mean(random_array)\n",
        "median_clicks = np.median(random_array)\n",
        "print(f\"Average clicks per day: {average_clicks}\")\n",
        "print(f\"Median clicks per day: {median_clicks}\")"
      ],
      "metadata": {
        "id": "_vbORfJWplyD",
        "colab": {
          "base_uri": "https://localhost:8080/"
        },
        "outputId": "c531bd88-d3da-490b-fa88-486e7bae113a"
      },
      "execution_count": 2,
      "outputs": [
        {
          "output_type": "stream",
          "name": "stdout",
          "text": [
            "Average clicks per day: 5333.2\n",
            "Median clicks per day: 5550.5\n"
          ]
        }
      ]
    },
    {
      "cell_type": "code",
      "source": [
        "# Total clicks for the first 30 days and the last 30 days\n",
        "first_30_days_sum = np.sum(random_array[:30])\n",
        "last_30_days_sum = np.sum(random_array[-30:])\n",
        "print(f\"Total clicks in the first 30 days: {first_30_days_sum}\")\n",
        "print(f\"Total clicks in the last 30 days: {last_30_days_sum}\")"
      ],
      "metadata": {
        "colab": {
          "base_uri": "https://localhost:8080/"
        },
        "id": "WXmjYjuKz2RW",
        "outputId": "1980f6c5-6a54-47a5-d290-4a107abb5966"
      },
      "execution_count": 3,
      "outputs": [
        {
          "output_type": "stream",
          "name": "stdout",
          "text": [
            "Total clicks in the first 30 days: 151897\n",
            "Total clicks in the last 30 days: 168095\n"
          ]
        }
      ]
    },
    {
      "cell_type": "code",
      "source": [
        "# Determine which month was more successful\n",
        "if first_30_days_sum > last_30_days_sum:\n",
        "    print(\"The first 30 days were more successful.\")\n",
        "elif first_30_days_sum < last_30_days_sum:\n",
        "    print(\"The last 30 days were more successful.\")\n",
        "else:\n",
        "    print(\"Both months had the same total clicks.\")"
      ],
      "metadata": {
        "colab": {
          "base_uri": "https://localhost:8080/"
        },
        "id": "apvs7j8oz4VG",
        "outputId": "ce451ec0-45bb-436d-8074-f512344b849e"
      },
      "execution_count": 4,
      "outputs": [
        {
          "output_type": "stream",
          "name": "stdout",
          "text": [
            "The last 30 days were more successful.\n"
          ]
        }
      ]
    },
    {
      "cell_type": "code",
      "source": [
        "# Maximum and minimum clicks, and the range (difference between max and min)\n",
        "max_clicks = np.max(random_array)\n",
        "min_clicks = np.min(random_array)\n",
        "range_clicks = max_clicks - min_clicks\n",
        "print(f\"Maximum clicks in a day: {max_clicks}\")\n",
        "print(f\"Minimum clicks in a day: {min_clicks}\")\n",
        "print(f\"Range of clicks: {range_clicks}\")"
      ],
      "metadata": {
        "colab": {
          "base_uri": "https://localhost:8080/"
        },
        "id": "q9B1P0jqz63W",
        "outputId": "45b1317c-2d81-479a-ed0d-4add6d699c37"
      },
      "execution_count": 5,
      "outputs": [
        {
          "output_type": "stream",
          "name": "stdout",
          "text": [
            "Maximum clicks in a day: 9980\n",
            "Minimum clicks in a day: 240\n",
            "Range of clicks: 9740\n"
          ]
        }
      ]
    },
    {
      "cell_type": "code",
      "source": [
        "# Advertising cost per click is $0.03\n",
        "cost_per_click = 0.03\n",
        "daily_cost = random_array * cost_per_click\n",
        "total_cost = np.sum(daily_cost)\n",
        "print(f\"Advertising cost per day: {daily_cost}\")\n",
        "print(f\"Total advertising cost: ${total_cost:.2f}\")"
      ],
      "metadata": {
        "colab": {
          "base_uri": "https://localhost:8080/"
        },
        "id": "nG6jBT8Dz8v8",
        "outputId": "4fb699b5-5b6f-4700-93f4-c1a85cb4cc86"
      },
      "execution_count": 6,
      "outputs": [
        {
          "output_type": "stream",
          "name": "stdout",
          "text": [
            "Advertising cost per day: [ 25.5  220.14 276.87 243.3  175.32 215.13  81.39 205.68  94.62 137.97\n",
            "  47.34  46.02  49.86  76.2  159.54 251.52 147.6   33.75  44.07 181.14\n",
            " 266.49 115.59  88.47 102.18 237.48 238.41 170.73 101.94 291.24 231.42\n",
            "  75.54 230.58  95.34   7.2  292.77 221.94 199.38  59.97 291.99 110.04\n",
            "  69.51 240.87 196.29 157.26 101.94 244.56 162.3  264.03  91.05  98.34\n",
            " 159.96 299.4  259.62 214.56  58.77 208.71 226.62 211.17  17.04 176.1 ]\n",
            "Total advertising cost: $9599.76\n"
          ]
        }
      ]
    }
  ]
}