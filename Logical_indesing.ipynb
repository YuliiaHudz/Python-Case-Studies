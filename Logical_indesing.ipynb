{
  "nbformat": 4,
  "nbformat_minor": 0,
  "metadata": {
    "colab": {
      "provenance": [],
      "authorship_tag": "ABX9TyPMz7C3h3W36NsMZ+BuMjcD",
      "include_colab_link": true
    },
    "kernelspec": {
      "name": "python3",
      "display_name": "Python 3"
    },
    "language_info": {
      "name": "python"
    }
  },
  "cells": [
    {
      "cell_type": "markdown",
      "metadata": {
        "id": "view-in-github",
        "colab_type": "text"
      },
      "source": [
        "<a href=\"https://colab.research.google.com/github/YuliiaHudz/Python-Case-Studies/blob/main/Logical_indesing.ipynb\" target=\"_parent\"><img src=\"https://colab.research.google.com/assets/colab-badge.svg\" alt=\"Open In Colab\"/></a>"
      ]
    },
    {
      "cell_type": "markdown",
      "source": [
        "This script:\n",
        "\n",
        "✅ Generates an array of 60 random values representing ad banner clicks.\n",
        "\n",
        "✅ Extracts and displays values with more than 8000 clicks.\n",
        "\n",
        "✅ Counts occurrences of values exceeding 8000 clicks.\n",
        "\n",
        "✅ Computes the percentage of values:\n",
        "\n",
        "- Over 4000 clicks.\n",
        "\n",
        "- Not exceeding 1000 clicks.\n",
        "\n",
        "- Between 5000 and 7500 clicks.\n",
        "\n",
        "✅ Uses NumPy for efficient array operations and logical indexing."
      ],
      "metadata": {
        "id": "49fag9L91su1"
      }
    },
    {
      "cell_type": "code",
      "execution_count": 1,
      "metadata": {
        "id": "aTBV96cYnpM5"
      },
      "outputs": [],
      "source": [
        "import numpy as np\n",
        "\n",
        "from random import randint\n",
        "\n",
        "# Generate a list of random values for the array\n",
        "random_values = [randint(100, 10000) for _ in range(60)]\n",
        "random_array = np.array(random_values)"
      ]
    },
    {
      "cell_type": "code",
      "source": [
        "# Display elements with clicks greater than 8000\n",
        "clicks_over_8000 = random_array[random_array > 8000]\n",
        "print(\"Elements with clicks greater than 8000:\", clicks_over_8000)"
      ],
      "metadata": {
        "id": "1DrT3wvtoK9M",
        "colab": {
          "base_uri": "https://localhost:8080/"
        },
        "outputId": "695ed161-29a2-4cca-9d69-06933c3f954e"
      },
      "execution_count": 2,
      "outputs": [
        {
          "output_type": "stream",
          "name": "stdout",
          "text": [
            "Elements with clicks greater than 8000: [8612 9575 9636 8055 8148 8837 8656 8832 9924 9017 8127 9870 8693 9794\n",
            " 8806 8877 9436]\n"
          ]
        }
      ]
    },
    {
      "cell_type": "code",
      "source": [
        "# Count of values with clicks greater than 8000\n",
        "count_clicks_over_8000 = len(clicks_over_8000)\n",
        "print(\"Count of values with clicks greater than 8000:\", count_clicks_over_8000)"
      ],
      "metadata": {
        "colab": {
          "base_uri": "https://localhost:8080/"
        },
        "id": "5KGEeje9121Z",
        "outputId": "a980bb18-5ae1-45fa-93e2-4af061a7f900"
      },
      "execution_count": 3,
      "outputs": [
        {
          "output_type": "stream",
          "name": "stdout",
          "text": [
            "Count of values with clicks greater than 8000: 17\n"
          ]
        }
      ]
    },
    {
      "cell_type": "code",
      "source": [
        "# Total number of elements\n",
        "total_elements = len(random_array)"
      ],
      "metadata": {
        "id": "mvbkwxSi141L"
      },
      "execution_count": 4,
      "outputs": []
    },
    {
      "cell_type": "code",
      "source": [
        "# Percentage of values greater than 4000 clicks\n",
        "percent_over_4000 = (np.sum(random_array > 4000) / total_elements) * 100\n",
        "print(f\"Percentage of values greater than 4000: {percent_over_4000:.2f}%\")"
      ],
      "metadata": {
        "colab": {
          "base_uri": "https://localhost:8080/"
        },
        "id": "T2yxrLkI17Px",
        "outputId": "a80bb255-6671-47e0-a80e-d45f1441b441"
      },
      "execution_count": 5,
      "outputs": [
        {
          "output_type": "stream",
          "name": "stdout",
          "text": [
            "Percentage of values greater than 4000: 63.33%\n"
          ]
        }
      ]
    },
    {
      "cell_type": "code",
      "source": [
        "# Percentage of values not more than 1000 clicks\n",
        "percent_not_more_than_1000 = (np.sum(random_array <= 1000) / total_elements) * 100\n",
        "print(f\"Percentage of values not more than 1000: {percent_not_more_than_1000:.2f}%\")"
      ],
      "metadata": {
        "colab": {
          "base_uri": "https://localhost:8080/"
        },
        "id": "j4ZryLQi18qz",
        "outputId": "7e62d1e0-8bee-40b8-a408-0b8a1588d12c"
      },
      "execution_count": 6,
      "outputs": [
        {
          "output_type": "stream",
          "name": "stdout",
          "text": [
            "Percentage of values not more than 1000: 5.00%\n"
          ]
        }
      ]
    },
    {
      "cell_type": "code",
      "source": [
        "# Percentage of values between 5000 and 7500 clicks\n",
        "percent_between_5000_and_7500 = (np.sum((random_array >= 5000) & (random_array <= 7500)) / total_elements) * 100\n",
        "print(f\"Percentage of values between 5000 and 7500: {percent_between_5000_and_7500:.2f}%\")"
      ],
      "metadata": {
        "colab": {
          "base_uri": "https://localhost:8080/"
        },
        "id": "IHH5uguG1-FR",
        "outputId": "40d25cf5-d9ca-4a45-e6f0-7e0f3f41a1c3"
      },
      "execution_count": 7,
      "outputs": [
        {
          "output_type": "stream",
          "name": "stdout",
          "text": [
            "Percentage of values between 5000 and 7500: 20.00%\n"
          ]
        }
      ]
    }
  ]
}