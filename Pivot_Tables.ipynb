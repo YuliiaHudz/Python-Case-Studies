{
  "nbformat": 4,
  "nbformat_minor": 0,
  "metadata": {
    "colab": {
      "provenance": [],
      "authorship_tag": "ABX9TyOp7oqEAqcKm9gtjkxQG9cC",
      "include_colab_link": true
    },
    "kernelspec": {
      "name": "python3",
      "display_name": "Python 3"
    },
    "language_info": {
      "name": "python"
    }
  },
  "cells": [
    {
      "cell_type": "markdown",
      "metadata": {
        "id": "view-in-github",
        "colab_type": "text"
      },
      "source": [
        "<a href=\"https://colab.research.google.com/github/YuliiaHudz/Python-Case-Studies/blob/main/Pivot_Tables.ipynb\" target=\"_parent\"><img src=\"https://colab.research.google.com/assets/colab-badge.svg\" alt=\"Open In Colab\"/></a>"
      ]
    },
    {
      "cell_type": "markdown",
      "source": [
        "This script:  \n",
        "\n",
        "✅ Creates a **pivot table** that displays total sales (`sales`) for each product category (`category`) and identifies the category with the highest total sales.  \n",
        "\n",
        "✅ Creates a **pivot table** that shows total sales for each product (`product`) in each region (`region`) and determines which product had the highest sales in the **North** region.  \n",
        "\n",
        "✅ Creates a **pivot table** that calculates both **total sales** and **average sales** for each product category. It also finds the average sales amount for the **Electronics** category.  \n",
        "\n",
        "✅ Creates a **pivot table** with `fill_value=0` to ensure missing values are replaced with `0`, displaying total sales for each product and region.  \n",
        "\n",
        "This task enhances **data aggregation** and **pivot table operations** using **Pandas**, helping analyze product sales across different categories and regions."
      ],
      "metadata": {
        "id": "OjSDxvr73hYz"
      }
    },
    {
      "cell_type": "code",
      "execution_count": null,
      "metadata": {
        "colab": {
          "base_uri": "https://localhost:8080/"
        },
        "id": "akEXAp7N8iBR",
        "outputId": "5941438f-764c-4a0d-b841-d4b1fff1aa4f"
      },
      "outputs": [
        {
          "output_type": "stream",
          "name": "stdout",
          "text": [
            "   order_id     product     category region  sales\n",
            "0       201      Laptop  Electronics  North   1500\n",
            "1       202  Smartphone  Electronics  South    900\n",
            "2       203      Laptop  Electronics   East   1200\n",
            "3       204      Tablet  Electronics  North    600\n",
            "4       205  Smartphone  Electronics   West    750\n",
            "5       206      Tablet  Electronics  South    450\n",
            "6       207  Smartwatch    Wearables   East    320\n",
            "7       208      Laptop  Electronics   West   1400\n",
            "8       209  Headphones  Accessories  North    200\n",
            "9       210  Smartwatch    Wearables   West    380\n"
          ]
        }
      ],
      "source": [
        "import pandas as pd\n",
        "\n",
        "# Creating a dataset\n",
        "data = {\n",
        "    \"order_id\": [201, 202, 203, 204, 205, 206, 207, 208, 209, 210],\n",
        "    \"product\": [\n",
        "        \"Laptop\",\n",
        "        \"Smartphone\",\n",
        "        \"Laptop\",\n",
        "        \"Tablet\",\n",
        "        \"Smartphone\",\n",
        "        \"Tablet\",\n",
        "        \"Smartwatch\",\n",
        "        \"Laptop\",\n",
        "        \"Headphones\",\n",
        "        \"Smartwatch\",\n",
        "    ],\n",
        "    \"category\": [\n",
        "        \"Electronics\",\n",
        "        \"Electronics\",\n",
        "        \"Electronics\",\n",
        "        \"Electronics\",\n",
        "        \"Electronics\",\n",
        "        \"Electronics\",\n",
        "        \"Wearables\",\n",
        "        \"Electronics\",\n",
        "        \"Accessories\",\n",
        "        \"Wearables\",\n",
        "    ],\n",
        "    \"region\": [\n",
        "        \"North\",\n",
        "        \"South\",\n",
        "        \"East\",\n",
        "        \"North\",\n",
        "        \"West\",\n",
        "        \"South\",\n",
        "        \"East\",\n",
        "        \"West\",\n",
        "        \"North\",\n",
        "        \"West\",\n",
        "    ],\n",
        "    \"sales\": [1500, 900, 1200, 600, 750, 450, 320, 1400, 200, 380],\n",
        "}\n",
        "\n",
        "df = pd.DataFrame(data)\n",
        "print(df)\n"
      ]
    },
    {
      "cell_type": "markdown",
      "source": [
        "# Calculate total sales by category"
      ],
      "metadata": {
        "id": "g5m-ATAt9ERb"
      }
    },
    {
      "cell_type": "code",
      "source": [
        "pivot_table_category = pd.pivot_table(df, values=\"sales\", index=\"category\", aggfunc=\"sum\")\n",
        "print(pivot_table_category)"
      ],
      "metadata": {
        "colab": {
          "base_uri": "https://localhost:8080/"
        },
        "id": "2WkN0vku8lTN",
        "outputId": "556dd13f-6d9e-41ec-a319-af20cc3d0bc5"
      },
      "execution_count": null,
      "outputs": [
        {
          "output_type": "stream",
          "name": "stdout",
          "text": [
            "             sales\n",
            "category          \n",
            "Accessories    200\n",
            "Electronics   6800\n",
            "Wearables      700\n"
          ]
        }
      ]
    },
    {
      "cell_type": "markdown",
      "source": [
        "Best selling category is Electronics.\n"
      ],
      "metadata": {
        "id": "oSsiCfwK9ijt"
      }
    },
    {
      "cell_type": "code",
      "source": [
        "best_selling_category = pivot_table_category[\"sales\"].idxmax()\n",
        "print(f\"Best selling category: {best_selling_category}\")"
      ],
      "metadata": {
        "colab": {
          "base_uri": "https://localhost:8080/"
        },
        "id": "adeSC-Q288wo",
        "outputId": "73b0738d-a005-4689-b021-86b4318a16d6"
      },
      "execution_count": null,
      "outputs": [
        {
          "output_type": "stream",
          "name": "stdout",
          "text": [
            "Best selling category: Electronics\n"
          ]
        }
      ]
    },
    {
      "cell_type": "markdown",
      "source": [
        "# Calculate total sales by region"
      ],
      "metadata": {
        "id": "z229SeVG-jUt"
      }
    },
    {
      "cell_type": "code",
      "source": [
        "pivot_table_region = pd.pivot_table(df, values=\"sales\", index=\"product\", columns=\"region\", aggfunc=\"sum\")\n",
        "print(pivot_table_region)"
      ],
      "metadata": {
        "colab": {
          "base_uri": "https://localhost:8080/"
        },
        "id": "WI67s5049x_9",
        "outputId": "ec1c3dc3-375b-4103-f510-9181aecc2812"
      },
      "execution_count": null,
      "outputs": [
        {
          "output_type": "stream",
          "name": "stdout",
          "text": [
            "region        East   North  South    West\n",
            "product                                  \n",
            "Headphones     NaN   200.0    NaN     NaN\n",
            "Laptop      1200.0  1500.0    NaN  1400.0\n",
            "Smartphone     NaN     NaN  900.0   750.0\n",
            "Smartwatch   320.0     NaN    NaN   380.0\n",
            "Tablet         NaN   600.0  450.0     NaN\n"
          ]
        }
      ]
    },
    {
      "cell_type": "markdown",
      "source": [
        "# Find the product with the highest sales in the North region"
      ],
      "metadata": {
        "id": "kSvhyoaS_55r"
      }
    },
    {
      "cell_type": "code",
      "source": [
        "north_region_sales = pivot_table_region[\"North\"]\n",
        "best_selling_product_north = north_region_sales.idxmax()\n",
        "print(f\"Best-selling product in the North region: {best_selling_product_north}\")"
      ],
      "metadata": {
        "colab": {
          "base_uri": "https://localhost:8080/"
        },
        "id": "Q7jp4WNz-ILl",
        "outputId": "6deea8c5-22a9-44bd-826b-b660e2ab79b1"
      },
      "execution_count": null,
      "outputs": [
        {
          "output_type": "stream",
          "name": "stdout",
          "text": [
            "Best-selling product in the North region: Laptop\n"
          ]
        }
      ]
    },
    {
      "cell_type": "markdown",
      "source": [
        "Laptop is the best-selling product in the North region."
      ],
      "metadata": {
        "id": "CBfuGdCNACxy"
      }
    },
    {
      "cell_type": "markdown",
      "source": [
        "# Calculate total and average sales by category"
      ],
      "metadata": {
        "id": "acYWf67_Alaf"
      }
    },
    {
      "cell_type": "code",
      "source": [
        "pivot_table_sum_mean = pd.pivot_table(\n",
        "    df, values=\"sales\", index=\"category\", aggfunc=[\"sum\", \"mean\"]\n",
        ")\n",
        "print(pivot_table_sum_mean)"
      ],
      "metadata": {
        "colab": {
          "base_uri": "https://localhost:8080/"
        },
        "id": "05kCTDaG_Y-X",
        "outputId": "d3c0a531-1387-4dda-9857-5733d91d6eb0"
      },
      "execution_count": null,
      "outputs": [
        {
          "output_type": "stream",
          "name": "stdout",
          "text": [
            "              sum        mean\n",
            "            sales       sales\n",
            "category                     \n",
            "Accessories   200  200.000000\n",
            "Electronics  6800  971.428571\n",
            "Wearables     700  350.000000\n"
          ]
        }
      ]
    },
    {
      "cell_type": "markdown",
      "source": [
        "# Find the average sales for Electronics"
      ],
      "metadata": {
        "id": "LRe6EAgrBpiU"
      }
    },
    {
      "cell_type": "code",
      "source": [
        "average_sales_electronics = pivot_table_sum_mean.loc[\"Electronics\", \"mean\"].values[0]\n",
        "print(f\"Average sales for Electronics: ${average_sales_electronics:.2f}\")"
      ],
      "metadata": {
        "colab": {
          "base_uri": "https://localhost:8080/"
        },
        "id": "lh_1h5xTAc1e",
        "outputId": "850d58e2-2c55-4c08-d126-dd6d339850aa"
      },
      "execution_count": null,
      "outputs": [
        {
          "output_type": "stream",
          "name": "stdout",
          "text": [
            "Average sales for Electronics: $971.43\n"
          ]
        }
      ]
    },
    {
      "cell_type": "markdown",
      "source": [
        "Average sales for Electronics: $971.43"
      ],
      "metadata": {
        "id": "9PcoQ50PBjVe"
      }
    },
    {
      "cell_type": "markdown",
      "source": [
        "# Calculate total sales by product and region, filling missing values with 0"
      ],
      "metadata": {
        "id": "PpEoKqu5B6yd"
      }
    },
    {
      "cell_type": "code",
      "source": [
        "pivot_table_sales_by_product_region_filled = df.groupby([\"product\", \"region\"])[\"sales\"].sum().unstack(fill_value=0)\n",
        "print(pivot_table_sales_by_product_region_filled)"
      ],
      "metadata": {
        "colab": {
          "base_uri": "https://localhost:8080/"
        },
        "id": "ENxWdnC3BSW5",
        "outputId": "33b59b8a-8d26-4353-84d3-e56eaed44641"
      },
      "execution_count": null,
      "outputs": [
        {
          "output_type": "stream",
          "name": "stdout",
          "text": [
            "region      East  North  South  West\n",
            "product                             \n",
            "Headphones     0    200      0     0\n",
            "Laptop      1200   1500      0  1400\n",
            "Smartphone     0      0    900   750\n",
            "Smartwatch   320      0      0   380\n",
            "Tablet         0    600    450     0\n"
          ]
        }
      ]
    }
  ]
}