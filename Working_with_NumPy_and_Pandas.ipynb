{
  "nbformat": 4,
  "nbformat_minor": 0,
  "metadata": {
    "colab": {
      "provenance": [],
      "authorship_tag": "ABX9TyPEPxehsfaavWq7SRpR84bQ",
      "include_colab_link": true
    },
    "kernelspec": {
      "name": "python3",
      "display_name": "Python 3"
    },
    "language_info": {
      "name": "python"
    }
  },
  "cells": [
    {
      "cell_type": "markdown",
      "metadata": {
        "id": "view-in-github",
        "colab_type": "text"
      },
      "source": [
        "<a href=\"https://colab.research.google.com/github/YuliiaHudz/Python-Case-Studies/blob/main/Working_with_NumPy_and_Pandas.ipynb\" target=\"_parent\"><img src=\"https://colab.research.google.com/assets/colab-badge.svg\" alt=\"Open In Colab\"/></a>"
      ]
    },
    {
      "cell_type": "markdown",
      "source": [
        "This script:  \n",
        "\n",
        "✅ Mounts Google Drive and navigates to the specified directory to load the dataset.  \n",
        "\n",
        "✅ Reads the dataset (`adult.csv`) and removes rows containing `\"?\"` in any column to clean the data.  \n",
        "\n",
        "✅ Converts salary categories (`<=50K` and `>50K`) into numerical values for easier analysis.  \n",
        "\n",
        "✅ Adjusts the salary column by multiplying the values in `\"salary K$\"` by 1000.  \n",
        "\n",
        "✅ Analyzes gender distribution in the dataset.  \n",
        "\n",
        "✅ Computes the average age of men, rounding the result.  \n",
        "\n",
        "✅ Determines the percentage of people from Poland.  \n",
        "\n",
        "✅ Finds the number of individuals without higher education who earn more than 50K.  \n",
        "\n",
        "✅ Generates age statistics for each education level using `groupby` and `describe()`.  \n",
        "\n",
        "✅ Compares average salaries of married and unmarried men, identifying the group with higher earnings.  \n",
        "\n",
        "✅ Identifies the maximum number of hours worked per week and counts how many people work that many hours.  \n",
        "\n",
        "This task enhances skills in **NumPy** and **Pandas**, focusing on data cleaning, filtering, grouping, and statistical analysis."
      ],
      "metadata": {
        "id": "Y8X1dznu2jFC"
      }
    },
    {
      "cell_type": "code",
      "source": [
        "import pandas as pd\n",
        "import numpy as np\n",
        "from google.colab import drive\n",
        "\n",
        "drive.mount(\"/content/drive\")\n",
        "\n",
        "%cd /content/drive/MyDrive/Mate_Homework\n",
        "\n",
        "\n",
        "# Load the dataset\n",
        "adult_data = pd.read_csv(\"adult.csv\")"
      ],
      "metadata": {
        "colab": {
          "base_uri": "https://localhost:8080/"
        },
        "id": "AByAs1W4i8QU",
        "outputId": "cb3dfc7a-26aa-4648-dfa5-e29254bc65cd"
      },
      "execution_count": 1,
      "outputs": [
        {
          "output_type": "stream",
          "name": "stdout",
          "text": [
            "Mounted at /content/drive\n",
            "/content/drive/MyDrive/Mate_Homework\n"
          ]
        }
      ]
    },
    {
      "cell_type": "code",
      "source": [
        "# Opt-in to future behavior for downcastingv\n",
        "pd.set_option(\"future.no_silent_downcasting\", True)"
      ],
      "metadata": {
        "id": "_ypvmRVji8uU"
      },
      "execution_count": 2,
      "outputs": []
    },
    {
      "cell_type": "code",
      "source": [
        "# Filter rows where no column contains the \"?\" symbol and create a copy\n",
        "adult_data_cleaned = adult_data[~adult_data.isin([\"?\"]).any(axis=1)].copy()"
      ],
      "metadata": {
        "id": "WP7TDZkc2yms"
      },
      "execution_count": 3,
      "outputs": []
    },
    {
      "cell_type": "code",
      "source": [
        "# Replace salary values with numerical values for better handling\n",
        "adult_data_cleaned[\"salary_numeric\"] = adult_data_cleaned[\"salary\"].replace({\"<=50K\": 50000, \">50K\": 60000})"
      ],
      "metadata": {
        "id": "yEHHPy6921u5"
      },
      "execution_count": 4,
      "outputs": []
    },
    {
      "cell_type": "code",
      "source": [
        "# Multiply the 'salary K$' column by 1000\n",
        "adult_data_cleaned[\"salary K$\"] = adult_data_cleaned[\"salary K$\"] * 1000"
      ],
      "metadata": {
        "id": "hoA2JQ--24US"
      },
      "execution_count": 5,
      "outputs": []
    },
    {
      "cell_type": "code",
      "source": [
        "# Gender distribution\n",
        "gender_counts = adult_data_cleaned[\"sex\"].value_counts()\n",
        "print(\"Gender distribution:\", gender_counts)"
      ],
      "metadata": {
        "colab": {
          "base_uri": "https://localhost:8080/"
        },
        "id": "dfHdGLJ026Tp",
        "outputId": "e8f09656-9adf-42ce-aeb8-4f0ba5566988"
      },
      "execution_count": 6,
      "outputs": [
        {
          "output_type": "stream",
          "name": "stdout",
          "text": [
            "Gender distribution: sex\n",
            "Male      20380\n",
            "Female     9782\n",
            "Name: count, dtype: int64\n"
          ]
        }
      ]
    },
    {
      "cell_type": "code",
      "source": [
        "# Calculate the average age of men (rounded)\n",
        "average_age_men = adult_data_cleaned[adult_data_cleaned[\"sex\"] == \"Male\"][\"age\"].mean()\n",
        "print(f\"The average age of men is: {round(average_age_men)}\")"
      ],
      "metadata": {
        "colab": {
          "base_uri": "https://localhost:8080/"
        },
        "id": "QfERRXOk28ae",
        "outputId": "325d10a7-b7b8-48bc-f935-ce332faa2248"
      },
      "execution_count": 7,
      "outputs": [
        {
          "output_type": "stream",
          "name": "stdout",
          "text": [
            "The average age of men is: 39\n"
          ]
        }
      ]
    },
    {
      "cell_type": "code",
      "source": [
        "# Percentage of people from Poland\n",
        "people_from_poland = adult_data_cleaned[adult_data_cleaned[\"native-country\"] == \"Poland\"].shape[0]\n",
        "percentage_poland = (people_from_poland / adult_data_cleaned.shape[0]) * 100\n",
        "print(f\"The percentage of people from Poland is: {percentage_poland:.2f}%\")"
      ],
      "metadata": {
        "colab": {
          "base_uri": "https://localhost:8080/"
        },
        "id": "F3raIDXD2-UM",
        "outputId": "7d411e6c-3aa5-40f4-bd74-c2fd0e5c4d4b"
      },
      "execution_count": 8,
      "outputs": [
        {
          "output_type": "stream",
          "name": "stdout",
          "text": [
            "The percentage of people from Poland is: 0.19%\n"
          ]
        }
      ]
    },
    {
      "cell_type": "code",
      "source": [
        "# Number of people without higher education but with salary > 50K\n",
        "higher_education_levels = [\"Bachelors\", \"Prof-school\", \"Assoc-acdm\", \"Assoc-voc\", \"Masters\", \"Doctorate\"]\n",
        "people_no_higher_education = adult_data_cleaned[~adult_data_cleaned[\"education\"].isin(higher_education_levels) & (adult_data_cleaned[\"salary\"] == \">50K\")]\n",
        "print(f\"Number of people without higher education but with salary > 50K: {people_no_higher_education.shape[0]}\")"
      ],
      "metadata": {
        "colab": {
          "base_uri": "https://localhost:8080/"
        },
        "id": "6j2p-oaP3AJU",
        "outputId": "d43ab64d-da20-494f-e78c-ee51edef7eee"
      },
      "execution_count": 9,
      "outputs": [
        {
          "output_type": "stream",
          "name": "stdout",
          "text": [
            "Number of people without higher education but with salary > 50K: 3178\n"
          ]
        }
      ]
    },
    {
      "cell_type": "code",
      "source": [
        "# Age statistics by education\n",
        "age_stats_by_education = adult_data_cleaned.groupby(\"education\")[\"age\"].describe()\n",
        "print(\"Age statistics by education:\", age_stats_by_education)"
      ],
      "metadata": {
        "colab": {
          "base_uri": "https://localhost:8080/"
        },
        "id": "gL8IXGcn3BUa",
        "outputId": "a461b5ce-f336-4582-933a-5c965b7f4e30"
      },
      "execution_count": 10,
      "outputs": [
        {
          "output_type": "stream",
          "name": "stdout",
          "text": [
            "Age statistics by education:                count       mean        std   min   25%   50%   75%   max\n",
            "education                                                               \n",
            "10th           820.0  37.897561  16.225795  17.0  23.0  36.0  52.0  90.0\n",
            "11th          1048.0  32.363550  15.089307  17.0  18.0  28.5  43.0  90.0\n",
            "12th           377.0  32.013263  14.373710  17.0  19.0  28.0  41.0  79.0\n",
            "1st-4th        151.0  44.622517  14.929051  19.0  33.0  44.0  56.0  81.0\n",
            "5th-6th        288.0  41.649306  14.754622  17.0  28.0  41.0  53.0  82.0\n",
            "7th-8th        557.0  47.631957  15.737479  17.0  34.0  49.0  60.0  90.0\n",
            "9th            455.0  40.303297  15.335754  17.0  28.0  38.0  53.0  90.0\n",
            "Assoc-acdm    1008.0  37.286706  10.509755  19.0  29.0  36.0  44.0  90.0\n",
            "Assoc-voc     1307.0  38.246366  11.181253  19.0  30.0  37.0  45.0  84.0\n",
            "Bachelors     5044.0  38.641554  11.577566  19.0  29.0  37.0  46.0  90.0\n",
            "Doctorate      375.0  47.130667  11.471727  24.0  39.0  47.0  54.0  80.0\n",
            "HS-grad       9840.0  38.640955  13.067730  17.0  28.0  37.0  48.0  90.0\n",
            "Masters       1627.0  43.740012  10.735356  18.0  36.0  43.0  50.0  90.0\n",
            "Preschool       45.0  41.288889  15.175672  19.0  30.0  40.0  53.0  75.0\n",
            "Prof-school    542.0  44.249077  11.428098  25.0  36.0  43.0  50.0  90.0\n",
            "Some-college  6678.0  36.135370  13.073528  17.0  25.0  35.0  45.0  90.0\n"
          ]
        }
      ]
    },
    {
      "cell_type": "code",
      "source": [
        "# Calculate the average salary for married and unmarried men\n",
        "men_data = adult_data_cleaned[adult_data_cleaned[\"sex\"] == \"Male\"].copy()\n",
        "men_data[\"is_married\"] = men_data[\"marital-status\"].str.startswith(\"Married\")\n",
        "average_salary_by_marital_status = men_data.groupby(\"is_married\")[\"salary_numeric\"].mean()\n",
        "print(\"Average salary by marital status:\", average_salary_by_marital_status)"
      ],
      "metadata": {
        "colab": {
          "base_uri": "https://localhost:8080/"
        },
        "id": "sNudF1Rw3Cma",
        "outputId": "2e795d79-a19c-4e8e-b5b5-fd3e5aee7b96"
      },
      "execution_count": 11,
      "outputs": [
        {
          "output_type": "stream",
          "name": "stdout",
          "text": [
            "Average salary by marital status: is_married\n",
            "False    50884.944116\n",
            "True     54479.843444\n",
            "Name: salary_numeric, dtype: object\n"
          ]
        }
      ]
    },
    {
      "cell_type": "code",
      "source": [
        "# Determine the group with the higher average salary\n",
        "salary_comparison = average_salary_by_marital_status.idxmax()  # Get the group with the higher average salary\n",
        "print(f\"The group with the higher average salary is: {'Married' if salary_comparison else 'Unmarried'} men.\")"
      ],
      "metadata": {
        "colab": {
          "base_uri": "https://localhost:8080/"
        },
        "id": "0UwQ67eU3D9Q",
        "outputId": "2666a2b4-ad6d-42b0-f3c9-4f3c05b42c59"
      },
      "execution_count": 12,
      "outputs": [
        {
          "output_type": "stream",
          "name": "stdout",
          "text": [
            "The group with the higher average salary is: Married men.\n"
          ]
        }
      ]
    },
    {
      "cell_type": "code",
      "source": [
        "# Maximum number of hours worked per week\n",
        "max_hours = adult_data_cleaned[\"hours-per-week\"].max()\n",
        "count_max_hours = adult_data_cleaned[adult_data_cleaned[\"hours-per-week\"] == max_hours].shape[0]\n",
        "print(f\"The maximum number of hours worked per week is: {max_hours}\")\n",
        "print(f\"Number of people working {max_hours} hours per week: {count_max_hours}\")"
      ],
      "metadata": {
        "colab": {
          "base_uri": "https://localhost:8080/"
        },
        "id": "I6LWqHLE3FGw",
        "outputId": "6844748a-c226-4a3a-e2ab-4a4889db85b4"
      },
      "execution_count": 13,
      "outputs": [
        {
          "output_type": "stream",
          "name": "stdout",
          "text": [
            "The maximum number of hours worked per week is: 99\n",
            "Number of people working 99 hours per week: 78\n"
          ]
        }
      ]
    }
  ]
}